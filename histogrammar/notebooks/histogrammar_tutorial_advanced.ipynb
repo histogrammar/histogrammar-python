{
 "cells": [
  {
   "cell_type": "markdown",
   "metadata": {
    "jupyter": {
     "outputs_hidden": false
    },
    "pycharm": {
     "name": "#%%\n"
    }
   },
   "source": [
    "# Histogrammar advanced tutorial\n",
    "\n",
    "Histogrammar is a Python package that allows you to make histograms from numpy arrays, and pandas and spark dataframes. (There is also a scala backend for Histogrammar.) \n",
    "\n",
    "This advanced tutorial shows how to:\n",
    "- work with spark dataframes, \n",
    "- make many histograms at ones, which is one of the nice features of histogrammar, and how to configure that. For example how to set bin specifications, or how to deal with a time-axis.\n",
    "\n",
    "\n",
    "Enjoy!"
   ]
  },
  {
   "cell_type": "code",
   "execution_count": null,
   "metadata": {},
   "outputs": [],
   "source": [
    "%%capture\n",
    "# install histogrammar (if not installed yet)\n",
    "import sys\n",
    "\n",
    "!\"{sys.executable}\" -m pip install histogrammar"
   ]
  },
  {
   "cell_type": "code",
   "execution_count": null,
   "metadata": {},
   "outputs": [],
   "source": [
    "import histogrammar as hg"
   ]
  },
  {
   "cell_type": "code",
   "execution_count": null,
   "metadata": {},
   "outputs": [],
   "source": [
    "import pandas as pd\n",
    "import numpy as np\n",
    "import matplotlib"
   ]
  },
  {
   "cell_type": "markdown",
   "metadata": {},
   "source": [
    "## Data generation\n",
    "Let's first load some data!"
   ]
  },
  {
   "cell_type": "code",
   "execution_count": null,
   "metadata": {},
   "outputs": [],
   "source": [
    "# open a pandas dataframe for use below\n",
    "from histogrammar import resources\n",
    "df = pd.read_csv(resources.data(\"test.csv.gz\"), parse_dates=[\"date\"])"
   ]
  },
  {
   "cell_type": "code",
   "execution_count": null,
   "metadata": {},
   "outputs": [],
   "source": [
    "df.head()"
   ]
  },
  {
   "cell_type": "markdown",
   "metadata": {},
   "source": [
    "## What about Spark DataFrames?\n",
    "\n",
    "No problem! We can easily perform the same steps on a Spark DataFrame. One important thing to note there is that we need to include a jar file when we create our Spark session. This is used by spark to create the histograms using Histogrammar. The jar file will be automatically downloaded the first time you run this command."
   ]
  },
  {
   "cell_type": "code",
   "execution_count": null,
   "metadata": {},
   "outputs": [],
   "source": [
    "# download histogrammar jar files if not already installed, used for histogramming of spark dataframe\n",
    "try:\n",
    "    from pyspark.sql import SparkSession\n",
    "    from pyspark.sql.functions import col\n",
    "    from pyspark import __version__ as pyspark_version\n",
    "    pyspark_installed = True\n",
    "except ImportError:\n",
    "    print(\"pyspark needs to be installed for this example\")\n",
    "    pyspark_installed = False"
   ]
  },
  {
   "cell_type": "code",
   "execution_count": null,
   "metadata": {},
   "outputs": [],
   "source": [
    "# this is the jar file for spark 3.0\n",
    "# for spark 2.X, in the jars string, for both jar files change \"_2.12\" into \"_2.11\".\n",
    "\n",
    "if pyspark_installed:\n",
    "    scala = '2.12' if int(pyspark_version[0]) >= 3 else '2.11'\n",
    "    hist_jar = f'io.github.histogrammar:histogrammar_{scala}:1.0.20'\n",
    "    hist_spark_jar = f'io.github.histogrammar:histogrammar-sparksql_{scala}:1.0.20'\n",
    "        \n",
    "    spark = SparkSession.builder.config(\n",
    "        \"spark.jars.packages\", f'{hist_spark_jar},{hist_jar}'\n",
    "    ).getOrCreate()\n",
    "\n",
    "    sdf = spark.createDataFrame(df)"
   ]
  },
  {
   "cell_type": "markdown",
   "metadata": {},
   "source": [
    "## Filling histograms with spark\n",
    "\n",
    "Filling histograms with spark dataframes is just as simple as it is with pandas dataframes."
   ]
  },
  {
   "cell_type": "code",
   "execution_count": null,
   "metadata": {},
   "outputs": [],
   "source": [
    "# example: filling from a pandas dataframe\n",
    "hist = hg.SparselyHistogram(binWidth=100, quantity='transaction')\n",
    "hist.fill.numpy(df)\n",
    "hist.plot.matplotlib();"
   ]
  },
  {
   "cell_type": "code",
   "execution_count": null,
   "metadata": {},
   "outputs": [],
   "source": [
    "# for spark you will need this spark column function:\n",
    "if pyspark_installed:\n",
    "    from pyspark.sql.functions import col"
   ]
  },
  {
   "cell_type": "markdown",
   "metadata": {},
   "source": [
    "Let's make the same histogram but from a spark dataframe. There are just two differences:\n",
    "- When declaring a histogram, always set quantity to `col('columns_name')` instead of `'columns_name'`\n",
    "- When filling the histogram from a dataframe, use the `fill.sparksql()` method instead of `fill.numpy()`."
   ]
  },
  {
   "cell_type": "code",
   "execution_count": null,
   "metadata": {},
   "outputs": [],
   "source": [
    "# example: filling from a pandas dataframe\n",
    "if pyspark_installed:\n",
    "    hist = hg.SparselyHistogram(binWidth=100, quantity=col('transaction'))\n",
    "    hist.fill.sparksql(sdf)\n",
    "    hist.plot.matplotlib();"
   ]
  },
  {
   "cell_type": "markdown",
   "metadata": {},
   "source": [
    "Apart from these two differences, all functionality is the same between pandas and spark histograms!\n",
    "\n",
    "Like pandas, we can also do directly from the dataframe:"
   ]
  },
  {
   "cell_type": "code",
   "execution_count": null,
   "metadata": {},
   "outputs": [],
   "source": [
    "if pyspark_installed:\n",
    "    h2 = sdf.hg_SparselyProfileErr(25, col('longitude'), col('age'))\n",
    "    h2.plot.matplotlib();"
   ]
  },
  {
   "cell_type": "code",
   "execution_count": null,
   "metadata": {},
   "outputs": [],
   "source": [
    "if pyspark_installed:\n",
    "    h3 = sdf.hg_TwoDimensionallySparselyHistogram(25, col('longitude'), 10, col('latitude'))\n",
    "    h3.plot.matplotlib();"
   ]
  },
  {
   "cell_type": "markdown",
   "metadata": {},
   "source": [
    "All examples below also work with spark dataframes."
   ]
  },
  {
   "cell_type": "markdown",
   "metadata": {},
   "source": [
    "## Making many histograms at once\n",
    "\n",
    "Histogrammar has a nice method to make many histograms in one go. See here.\n",
    "\n",
    "By default automagical binning is applied to make the histograms."
   ]
  },
  {
   "cell_type": "code",
   "execution_count": null,
   "metadata": {},
   "outputs": [],
   "source": [
    "hists = df.hg_make_histograms()"
   ]
  },
  {
   "cell_type": "code",
   "execution_count": null,
   "metadata": {},
   "outputs": [],
   "source": [
    "# histogrammar has made histograms of all features, using an automated binning.\n",
    "hists.keys()"
   ]
  },
  {
   "cell_type": "code",
   "execution_count": null,
   "metadata": {},
   "outputs": [],
   "source": [
    "h = hists['transaction']\n",
    "h.plot.matplotlib();"
   ]
  },
  {
   "cell_type": "code",
   "execution_count": null,
   "metadata": {},
   "outputs": [],
   "source": [
    "# you can select which features you want to histogram with features=:\n",
    "hists = df.hg_make_histograms(features = ['longitude', 'age', 'eyeColor'])"
   ]
  },
  {
   "cell_type": "code",
   "execution_count": null,
   "metadata": {},
   "outputs": [],
   "source": [
    "# you can also make multi-dimensional histograms\n",
    "# here longitude is the first axis of each histogram.\n",
    "hists = df.hg_make_histograms(features = ['longitude:age', 'longitude:age:eyeColor'])"
   ]
  },
  {
   "cell_type": "markdown",
   "metadata": {},
   "source": [
    "### Working with timestamps"
   ]
  },
  {
   "cell_type": "code",
   "execution_count": null,
   "metadata": {},
   "outputs": [],
   "source": [
    "# Working with a dedicated time axis, make histograms of each feature over time.\n",
    "hists = df.hg_make_histograms(time_axis=\"date\")"
   ]
  },
  {
   "cell_type": "code",
   "execution_count": null,
   "metadata": {},
   "outputs": [],
   "source": [
    "hists.keys()"
   ]
  },
  {
   "cell_type": "code",
   "execution_count": null,
   "metadata": {},
   "outputs": [],
   "source": [
    "h2 = hists['date:age']\n",
    "h2.plot.matplotlib();"
   ]
  },
  {
   "cell_type": "markdown",
   "metadata": {},
   "source": [
    "Histogrammar does not support pandas' timestamps natively, but converts timestamps into nanoseconds since 1970-1-1."
   ]
  },
  {
   "cell_type": "code",
   "execution_count": null,
   "metadata": {},
   "outputs": [],
   "source": [
    "h2.bin_edges()"
   ]
  },
  {
   "cell_type": "markdown",
   "metadata": {},
   "source": [
    "The datatype shows the datetime though:"
   ]
  },
  {
   "cell_type": "code",
   "execution_count": null,
   "metadata": {},
   "outputs": [],
   "source": [
    "h2.datatype"
   ]
  },
  {
   "cell_type": "code",
   "execution_count": null,
   "metadata": {},
   "outputs": [],
   "source": [
    "# convert these back to timestamps with:\n",
    "pd.Timestamp(h2.bin_edges()[0])"
   ]
  },
  {
   "cell_type": "code",
   "execution_count": null,
   "metadata": {},
   "outputs": [],
   "source": [
    "# For the time axis, you can set the binning specifications with time_width and time_offset:\n",
    "hists = df.hg_make_histograms(time_axis=\"date\", time_width='28d', time_offset='2014-1-4', features=['date:isActive', 'date:age'])"
   ]
  },
  {
   "cell_type": "code",
   "execution_count": null,
   "metadata": {},
   "outputs": [],
   "source": [
    "hists['date:isActive'].plot.matplotlib();"
   ]
  },
  {
   "cell_type": "markdown",
   "metadata": {},
   "source": [
    "### Setting binning specifications"
   ]
  },
  {
   "cell_type": "code",
   "execution_count": null,
   "metadata": {},
   "outputs": [],
   "source": [
    "# histogram selections. Here 'date' is the first axis of each histogram.\n",
    "features=[\n",
    "    'date', 'latitude', 'longitude', 'age', 'eyeColor', 'favoriteFruit', 'transaction'\n",
    "]\n",
    "\n",
    "# Specify your own binning specifications for individual features or combinations thereof.\n",
    "# This bin specification uses open-ended (\"sparse\") histograms; unspecified features get\n",
    "# auto-binned. The time-axis binning, when specified here, needs to be in nanoseconds.\n",
    "bin_specs={\n",
    "    'longitude': {'binWidth': 10.0, 'origin': 0.0},\n",
    "    'latitude': {'edges': [-100, -75, -25, 0, 25, 75, 100]},\n",
    "    'age': {'num': 100, 'low': 0, 'high': 100},\n",
    "    'transaction': {'centers': [-1000, -500, 0, 500, 1000, 1500]},\n",
    "    'date': {'binWidth': pd.Timedelta('4w').value, 'origin': pd.Timestamp('2015-1-1').value}\n",
    "}\n",
    "\n",
    "\n",
    "# this binning specification is making:\n",
    "# - a sparse histogram for: longitude\n",
    "# - an irregular binned histogram for: latitude\n",
    "# - a closed-range evenly spaced histogram for: age\n",
    "# - a histogram centered around bin centers for: transaction\n",
    "hists = df.hg_make_histograms(features=features, bin_specs=bin_specs)"
   ]
  },
  {
   "cell_type": "code",
   "execution_count": null,
   "metadata": {},
   "outputs": [],
   "source": [
    "hists.keys()"
   ]
  },
  {
   "cell_type": "code",
   "execution_count": null,
   "metadata": {},
   "outputs": [],
   "source": [
    "hists['transaction'].plot.matplotlib();"
   ]
  },
  {
   "cell_type": "code",
   "execution_count": null,
   "metadata": {},
   "outputs": [],
   "source": [
    "# all available bin specifications are (just examples):\n",
    "\n",
    "bin_specs = {'x': {'bin_width': 1, 'bin_offset': 0},              # SparselyBin histogram\n",
    "             'y': {'num': 10, 'low': 0.0, 'high': 2.0},           # Bin histogram\n",
    "             'x:y': [{}, {'num': 5, 'low': 0.0, 'high': 1.0}],    # SparselyBin vs Bin histograms\n",
    "             'a': {'edges': [0, 2, 10, 11, 21, 101]},             # IrregularlyBin histogram\n",
    "             'b': {'centers': [1, 6, 10.5, 16, 20, 100]},         # CentrallyBin histogram\n",
    "             'c': {'max': True},                                  # Maximize histogram\n",
    "             'd': {'min': True},                                  # Minimize histogram\n",
    "             'e': {'sum': True},                                  # Sum histogram\n",
    "             'z': {'deviate': True},                              # Deviate histogram\n",
    "             'f': {'average': True},                              # Average histogram\n",
    "             'a:f': [{'edges': [0, 10, 101]}, {'average': True}], # IrregularlyBin vs Average histograms\n",
    "             'g': {'thresholds': [0, 2, 10, 11, 21, 101]},        # Stack histogram \n",
    "             'h': {'bag': True},                                  # Bag histogram\n",
    "             }\n",
    "\n",
    "# to set binning specs for a specific 2d histogram, you can do this:\n",
    "# if these are not provide, the 1d binning specifications are picked up for 'a:f'\n",
    "bin_specs = {'a:f': [{'edges': [0, 10, 101]}, {'average': True}]}"
   ]
  },
  {
   "cell_type": "code",
   "execution_count": null,
   "metadata": {},
   "outputs": [],
   "source": [
    "# For example \n",
    "features = ['latitude:age', 'longitude:age', 'age', 'longitude']\n",
    "\n",
    "bin_specs = {\n",
    "    'latitude': {'binWidth': 25},\n",
    "    'longitude:': {'edges': [-100, -75, -25, 0, 25, 75, 100]},\n",
    "    'age': {'deviate': True},\n",
    "    'longitude:age': [{'binWidth': 25}, {'average': True}],\n",
    "}\n",
    "\n",
    "hists = df.hg_make_histograms(features=features, bin_specs=bin_specs)"
   ]
  },
  {
   "cell_type": "code",
   "execution_count": null,
   "metadata": {},
   "outputs": [],
   "source": [
    "h = hists['latitude:age']\n",
    "h.bins"
   ]
  },
  {
   "cell_type": "code",
   "execution_count": null,
   "metadata": {},
   "outputs": [],
   "source": [
    "hists['longitude:age'].plot.matplotlib();"
   ]
  }
 ],
 "metadata": {
  "kernel_info": {
   "name": "python3"
  },
  "kernelspec": {
   "display_name": "Python 3",
   "language": "python",
   "name": "python3"
  },
  "language_info": {
   "codemirror_mode": {
    "name": "ipython",
    "version": 3
   },
   "file_extension": ".py",
   "mimetype": "text/x-python",
   "name": "python",
   "nbconvert_exporter": "python",
   "pygments_lexer": "ipython3",
   "version": "3.7.6"
  },
  "nteract": {
   "version": "0.15.0"
  },
  "pycharm": {
   "stem_cell": {
    "cell_type": "raw",
    "metadata": {
     "collapsed": false
    },
    "source": []
   }
  }
 },
 "nbformat": 4,
 "nbformat_minor": 4
}
