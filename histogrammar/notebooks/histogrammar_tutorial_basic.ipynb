{
 "cells": [
  {
   "cell_type": "markdown",
   "metadata": {},
   "source": [
    "# Histogrammar basic tutorial\n",
    "\n",
    "Histogrammar is a Python package that allows you to make histograms from numpy arrays, and pandas and spark dataframes. (There is also a scala backend for Histogrammar.) \n",
    "\n",
    "This basic tutorial shows how to:\n",
    "- make histograms with numpy arrays and pandas dataframes, \n",
    "- plot them, \n",
    "- make multi-dimensional histograms,\n",
    "- the various histogram types,\n",
    "- to make many histograms at ones,\n",
    "- and store and retrieve them. \n",
    "\n",
    "Enjoy!"
   ]
  },
  {
   "cell_type": "code",
   "execution_count": null,
   "metadata": {},
   "outputs": [],
   "source": [
    "%%capture\n",
    "# install histogrammar (if not installed yet)\n",
    "import sys\n",
    "\n",
    "!\"{sys.executable}\" -m pip install histogrammar"
   ]
  },
  {
   "cell_type": "code",
   "execution_count": null,
   "metadata": {},
   "outputs": [],
   "source": [
    "import histogrammar as hg"
   ]
  },
  {
   "cell_type": "code",
   "execution_count": null,
   "metadata": {},
   "outputs": [],
   "source": [
    "import pandas as pd\n",
    "import numpy as np\n",
    "import matplotlib"
   ]
  },
  {
   "cell_type": "markdown",
   "metadata": {},
   "source": [
    "## Data generation\n",
    "Let's first load some data!"
   ]
  },
  {
   "cell_type": "code",
   "execution_count": null,
   "metadata": {},
   "outputs": [],
   "source": [
    "# open a pandas dataframe for use below\n",
    "from histogrammar import resources\n",
    "df = pd.read_csv(resources.data(\"test.csv.gz\"), parse_dates=[\"date\"])"
   ]
  },
  {
   "cell_type": "code",
   "execution_count": null,
   "metadata": {},
   "outputs": [],
   "source": [
    "df.head()"
   ]
  },
  {
   "cell_type": "markdown",
   "metadata": {},
   "source": [
    "## Let's fill a histogram!"
   ]
  },
  {
   "cell_type": "markdown",
   "metadata": {},
   "source": [
    "Histogrammar treats histograms as objects. You will see this has various advantages.\n",
    "\n",
    "Let's fill a simple histogram with a numpy array."
   ]
  },
  {
   "cell_type": "code",
   "execution_count": null,
   "metadata": {},
   "outputs": [],
   "source": [
    "# this creates a histogram with 100 even-sized bins in the (closed) range [-5, 5]\n",
    "hist1 = hg.Bin(num=100, low=-5, high=5)"
   ]
  },
  {
   "cell_type": "code",
   "execution_count": null,
   "metadata": {},
   "outputs": [],
   "source": [
    "# filling it with one data point:\n",
    "hist1.fill(0.5)"
   ]
  },
  {
   "cell_type": "code",
   "execution_count": null,
   "metadata": {},
   "outputs": [],
   "source": [
    "print (hist1.entries)"
   ]
  },
  {
   "cell_type": "code",
   "execution_count": null,
   "metadata": {},
   "outputs": [],
   "source": [
    "# filling the histogram with an array:\n",
    "hist1.fill.numpy(np.random.normal(size=10000))"
   ]
  },
  {
   "cell_type": "code",
   "execution_count": null,
   "metadata": {},
   "outputs": [],
   "source": [
    "print (hist1.entries)"
   ]
  },
  {
   "cell_type": "code",
   "execution_count": null,
   "metadata": {},
   "outputs": [],
   "source": [
    "# let's plot it\n",
    "hist1.plot.matplotlib()"
   ]
  },
  {
   "cell_type": "code",
   "execution_count": null,
   "metadata": {},
   "outputs": [],
   "source": [
    "# Alternatively, you can call this to make the same histogram:\n",
    "# hist1 = hg.Histogram(num=100, low=-5, high=5)"
   ]
  },
  {
   "cell_type": "markdown",
   "metadata": {},
   "source": [
    "Histogrammar also supports \"sparse\" historgrams, which are open-ended. Bins in a sparse histogram only get created and filled if the corresponding data points are encountered. \n",
    "\n",
    "A sparse histogram has a bin-width, and optionally a bin-origin parameter. Sparse histograms are nice if you don't want to restrict the range, for example for tracking data distributions over time, which may have large, sudden outliers."
   ]
  },
  {
   "cell_type": "code",
   "execution_count": null,
   "metadata": {},
   "outputs": [],
   "source": [
    "hist2 = hg.SparselyBin(binWidth=10)"
   ]
  },
  {
   "cell_type": "code",
   "execution_count": null,
   "metadata": {},
   "outputs": [],
   "source": [
    "hist2.fill.numpy(df['age'].values)"
   ]
  },
  {
   "cell_type": "code",
   "execution_count": null,
   "metadata": {},
   "outputs": [],
   "source": [
    "hist2.plot.matplotlib()"
   ]
  },
  {
   "cell_type": "code",
   "execution_count": null,
   "metadata": {},
   "outputs": [],
   "source": [
    "# Alternatively, you can call this to make the same histogram:\n",
    "# hist2 = hg.SparselyHistogram(binWidth=10)"
   ]
  },
  {
   "cell_type": "markdown",
   "metadata": {},
   "source": [
    "## Filling from a dataframe"
   ]
  },
  {
   "cell_type": "markdown",
   "metadata": {},
   "source": [
    "When importing histogrammar, pandas (and spark) dataframes get extra functions to create histograms that all start with \"hg_\". For example: hg_Bin or hg_SparselyBin.\n",
    "\n",
    "Let's make the same 1d (sparse) histogram directly from a (pandas) dataframe."
   ]
  },
  {
   "cell_type": "code",
   "execution_count": null,
   "metadata": {},
   "outputs": [],
   "source": [
    "hist3 = df.hg_SparselyBin(binWidth=10, origin=0, quantity='age')\n",
    "hist3.plot.matplotlib()"
   ]
  },
  {
   "cell_type": "markdown",
   "metadata": {},
   "source": [
    "Note that the column \"age\" is picked by setting quantity=\"age\", and also that the filling step is done automatically."
   ]
  },
  {
   "cell_type": "code",
   "execution_count": null,
   "metadata": {},
   "outputs": [],
   "source": [
    "# Alternatively, do:\n",
    "hist3 = hg.SparselyBin(binWidth=10, quantity='age')\n",
    "hist3.fill.numpy(df)\n",
    "# ... where hist3 automatically picks up column age from the dataframe, \n",
    "# ... but needs to be filled by calling fill.numpy() explicitly."
   ]
  },
  {
   "cell_type": "markdown",
   "metadata": {},
   "source": [
    "### handy functions"
   ]
  },
  {
   "cell_type": "markdown",
   "metadata": {},
   "source": [
    "For any 1-dimensional histogram extract the bin entries, edges and centers as follows:"
   ]
  },
  {
   "cell_type": "code",
   "execution_count": null,
   "metadata": {},
   "outputs": [],
   "source": [
    "# full range of bin entries, and those in a specified range:\n",
    "print(hist3.bin_entries(), hist3.bin_entries(low=30, high=80))"
   ]
  },
  {
   "cell_type": "code",
   "execution_count": null,
   "metadata": {},
   "outputs": [],
   "source": [
    "# full range of bin edges, and those in a specified range:\n",
    "print (hist3.bin_edges(), hist3.bin_edges(low=31, high=71))"
   ]
  },
  {
   "cell_type": "code",
   "execution_count": null,
   "metadata": {},
   "outputs": [],
   "source": [
    "# full range of bin centers, and those in a specified range:\n",
    "print (hist3.bin_centers(), hist3.bin_centers(low=31, high=80))"
   ]
  },
  {
   "cell_type": "code",
   "execution_count": null,
   "metadata": {},
   "outputs": [],
   "source": [
    "hsum = hist2 + hist3\n",
    "print (hsum.entries)"
   ]
  },
  {
   "cell_type": "code",
   "execution_count": null,
   "metadata": {},
   "outputs": [],
   "source": [
    "hsum *= 4\n",
    "print (hsum.entries)"
   ]
  },
  {
   "cell_type": "markdown",
   "metadata": {},
   "source": [
    "There are also: \n",
    "- IrregularlyBin histograms, with irregular bin edges, and \n",
    "- CentrallyBin histograms, where no bin edges are given but bin centers, and which is open-ended on both sides."
   ]
  },
  {
   "cell_type": "code",
   "execution_count": null,
   "metadata": {},
   "outputs": [],
   "source": [
    "hist4 = df.hg_CentrallyBin(centers=[15, 25, 35, 45, 55, 65, 75, 85, 95], quantity='age')\n",
    "hist4.plot.matplotlib()"
   ]
  },
  {
   "cell_type": "markdown",
   "metadata": {},
   "source": [
    "Note the slightly different plotting style for CentrallyBin histograms."
   ]
  },
  {
   "cell_type": "markdown",
   "metadata": {},
   "source": [
    "## Multi-dimensional histograms"
   ]
  },
  {
   "cell_type": "markdown",
   "metadata": {},
   "source": [
    "Let's make a multi-dimensional histogram. In Histogrammar, a multi-dimensional histogram is composed as two recursive histograms. \n",
    "\n",
    "We will use histograms with irregular binning in this example."
   ]
  },
  {
   "cell_type": "code",
   "execution_count": null,
   "metadata": {},
   "outputs": [],
   "source": [
    "edges1 = [-100, -75, -50, -25, 0, 25, 50, 75, 100]\n",
    "edges2 = [-200, -150, -100, -50, 0, 50, 100, 150, 200]"
   ]
  },
  {
   "cell_type": "code",
   "execution_count": null,
   "metadata": {},
   "outputs": [],
   "source": [
    "hist1 = hg.IrregularlyBin(edges=edges1, quantity='latitude')\n",
    "hist2 = hg.IrregularlyBin(edges=edges2, quantity='longitude', value=hist1)\n",
    "\n",
    "# for 3 dimensions or higher simply add the 2-dim histogram to the value argument\n",
    "hist3 = hg.SparselyBin(binWidth=10, quantity='age', value=hist2)"
   ]
  },
  {
   "cell_type": "code",
   "execution_count": null,
   "metadata": {},
   "outputs": [],
   "source": [
    "hist2.fill.numpy(df)\n",
    "hist2.plot.matplotlib()"
   ]
  },
  {
   "cell_type": "code",
   "execution_count": null,
   "metadata": {},
   "outputs": [],
   "source": [
    "# number of dimensions per histogram\n",
    "print (hist1.n_dim, hist2.n_dim, hist3.n_dim)"
   ]
  },
  {
   "cell_type": "markdown",
   "metadata": {},
   "source": [
    "## Histogram types\n",
    "\n",
    "So far we have covered the histogram types: \n",
    "- Bin histograms: with a fixed range and even-sized bins,\n",
    "- SparselyBin histograms: open-ended and with a fixed bin-width,\n",
    "- IrregularlyBin histograms: using irregular bin edges,\n",
    "- CentrallyBin histograms: open-ended and using bin centers.\n",
    "\n",
    "All of these process numeric variables only."
   ]
  },
  {
   "cell_type": "markdown",
   "metadata": {},
   "source": [
    "### Categorical variables\n",
    "\n",
    "For categorical variables use the Categorize histogram\n",
    "- Categorize histograms: accepting categorical variables such as strings and booleans.\n",
    "\n"
   ]
  },
  {
   "cell_type": "code",
   "execution_count": null,
   "metadata": {},
   "outputs": [],
   "source": [
    "histy = hg.Categorize('eyeColor')\n",
    "histx = hg.Categorize('favoriteFruit', value=histy)"
   ]
  },
  {
   "cell_type": "code",
   "execution_count": null,
   "metadata": {},
   "outputs": [],
   "source": [
    "histx.fill.numpy(df)\n",
    "histx.plot.matplotlib()"
   ]
  },
  {
   "cell_type": "code",
   "execution_count": null,
   "metadata": {},
   "outputs": [],
   "source": [
    "# show the datatypy(s) of the histogram\n",
    "print (histx.datatype)"
   ]
  },
  {
   "cell_type": "markdown",
   "metadata": {},
   "source": [
    "Categorize histograms also accept booleans:"
   ]
  },
  {
   "cell_type": "code",
   "execution_count": null,
   "metadata": {},
   "outputs": [],
   "source": [
    "histy = df.hg_Categorize('isActive')\n",
    "histy.plot.matplotlib()"
   ]
  },
  {
   "cell_type": "code",
   "execution_count": null,
   "metadata": {},
   "outputs": [],
   "source": [
    "print (histy.bin_entries())"
   ]
  },
  {
   "cell_type": "code",
   "execution_count": null,
   "metadata": {},
   "outputs": [],
   "source": [
    "print (histy.bin_labels())\n",
    "# histy.bin_centers() will work as well for Categorize histograms"
   ]
  },
  {
   "cell_type": "markdown",
   "metadata": {},
   "source": [
    "### Other histogram types"
   ]
  },
  {
   "cell_type": "markdown",
   "metadata": {},
   "source": [
    "There are several more histogram types:\n",
    "- Minimize, Maximize: keep track of the min or max value of a numeric distribution,\n",
    "- Average, Deviate: keep track of the mean or mean and standard deviation of a numeric distribution,\n",
    "- Sum: keep track of the sum of a numeric distribution,\n",
    "- Stack: keep track how many data points pass certain thresholds.\n",
    "- Bag: works like a dict, it keeps tracks of all unique values encounterd in a column, and can also do this for vector s of numbers. For strings, Bag works just like the Categorize histogram."
   ]
  },
  {
   "cell_type": "code",
   "execution_count": null,
   "metadata": {},
   "outputs": [],
   "source": [
    "hmin = df.hg_Minimize('latitude')\n",
    "hmax = df.hg_Maximize('longitude')\n",
    "print (hmin.min, hmax.max)"
   ]
  },
  {
   "cell_type": "code",
   "execution_count": null,
   "metadata": {},
   "outputs": [],
   "source": [
    "havg = df.hg_Average('latitude')\n",
    "hdev = df.hg_Deviate('longitude')\n",
    "print (havg.mean, hdev.mean, hdev.variance)"
   ]
  },
  {
   "cell_type": "code",
   "execution_count": null,
   "metadata": {},
   "outputs": [],
   "source": [
    "hsum = df.hg_Sum('age')\n",
    "print (hsum.sum)"
   ]
  },
  {
   "cell_type": "code",
   "execution_count": null,
   "metadata": {},
   "outputs": [],
   "source": [
    "# let's illustrate the Stack histogram with longitude distribution\n",
    "# first we plot the regular distribution\n",
    "hl = df.hg_SparselyBin(25, 'longitude')\n",
    "hl.plot.matplotlib()"
   ]
  },
  {
   "cell_type": "code",
   "execution_count": null,
   "metadata": {},
   "outputs": [],
   "source": [
    "# Stack counts how often data points are greater or equal to the provided thresholds \n",
    "thresholds = [-200, -150, -100, -50, 0, 50, 100, 150, 200]"
   ]
  },
  {
   "cell_type": "code",
   "execution_count": null,
   "metadata": {},
   "outputs": [],
   "source": [
    "hs = df.hg_Stack(thresholds=thresholds, quantity='longitude')\n",
    "print (hs.thresholds)\n",
    "print (hs.bin_entries())"
   ]
  },
  {
   "cell_type": "markdown",
   "metadata": {},
   "source": [
    "Stack histograms are useful to make efficiency curves.\n",
    "\n",
    "With all these histograms you can make multi-dimensional histograms. For example, you can evaluate the mean and standard deviation of one feature as a function of bins of another feature. (A \"profile\" plot, similar to a box plot.) "
   ]
  },
  {
   "cell_type": "code",
   "execution_count": null,
   "metadata": {},
   "outputs": [],
   "source": [
    "hav = hg.Deviate('age')\n",
    "hlo = hg.SparselyBin(25, 'longitude', value=hav)\n",
    "hlo.fill.numpy(df)"
   ]
  },
  {
   "cell_type": "code",
   "execution_count": null,
   "metadata": {},
   "outputs": [],
   "source": [
    "hlo.bins"
   ]
  },
  {
   "cell_type": "code",
   "execution_count": null,
   "metadata": {},
   "outputs": [],
   "source": [
    "hlo.plot.matplotlib()"
   ]
  },
  {
   "cell_type": "markdown",
   "metadata": {},
   "source": [
    "### Convenience functions\n",
    "\n",
    "There are several convenience functions to make such composed histograms. These are:\n",
    "- Profile: Convenience function for creating binwise averages.\n",
    "- SparselyProfile: Convenience function for creating sparsely binned binwise averages.\n",
    "- ProfileErr: Convenience function for creating binwise averages and variances.\n",
    "- SparselyProfile: Convenience function for creating sparsely binned binwise averages and variances.\n",
    "- TwoDimensionallyHistogram: Convenience function for creating a conventional, two-dimensional histogram.\n",
    "- TwoDimensionallySparselyHistogram: Convenience function for creating a sparsely binned, two-dimensional histogram."
   ]
  },
  {
   "cell_type": "code",
   "execution_count": null,
   "metadata": {},
   "outputs": [],
   "source": [
    "# For example, call this convience function to make the same histogram as above:\n",
    "hlo = df.hg_SparselyProfileErr(25, 'longitude', 'age')\n",
    "hlo.plot.matplotlib()"
   ]
  },
  {
   "cell_type": "markdown",
   "metadata": {},
   "source": [
    "### Summary of histograms\n",
    "\n",
    "Here you can find the list of all available histograms and aggregators and how to use each one: \n",
    "\n",
    "https://histogrammar.github.io/histogrammar-docs/specification/1.0/\n",
    "\n",
    "The most useful aggregators are the following. Tinker with them to get familiar; building up an analysis is easier when you know \"there's an app for that.\"\n",
    "\n",
    "**Simple counters:**\n",
    "\n",
    "  * [`Count`](../../specification/#count-sum-of-weights): just counts. Every aggregator has an `entries` field, but `Count` _only_ has this field.\n",
    "  * [`Average`](../../specification/#average-mean-of-a-quantity) and [`Deviate`](../../specification/#deviate-mean-and-variance): add mean and variance, cumulatively.\n",
    "  * [`Minimize`](../../specification/#minimize-minimum-value) and [`Maximize`](../../specification/#maximize-maximum-value): lowest and highest value seen.\n",
    "\n",
    "**Histogram-like objects:**\n",
    "\n",
    "  * [`Bin`](../../specification/#bin-regular-binning-for-histograms) and [`SparselyBin`](../../specification/#sparselybin-ignore-zeros): split a numerical domain into uniform bins and redirect aggregation into those bins.\n",
    "  * [`Categorize`](../../specification/#categorize-string-valued-bins-bar-charts): split a string-valued domain by unique values; good for making bar charts (which are histograms with a string-valued axis).\n",
    "  * [`CentrallyBin`](#centrallybin-fully-partitioning-with-centers) and [`IrregularlyBin`](../../specification/#irregularlybin-fully-partitioning-with-edges): split a numerical domain into arbitrary subintervals, usually for separate plots like particle pseudorapidity or collision centrality.\n",
    "\n",
    "**Collections:**\n",
    "\n",
    "  * [`Label`](../../specification/#label-directory-with-string-based-keys), [`UntypedLabel`](../../specification/#untypedlabel-directory-of-different-types), and [`Index`](../../specification/#index-list-with-integer-keys): bundle objects with string-based keys (`Label` and `UntypedLabel`) or simply an ordered array (effectively, integer-based keys) consisting of a single type (`Label` and `Index`) or any types (`UntypedLabel`).\n",
    "  * [`Branch`](../../specification/#branch-tuple-of-different-types): for the fourth case, an ordered array of any types. A `Branch` is useful as a \"cable splitter\". For instance, to make a histogram that tracks minimum and maximum value, do this:\n",
    "\n",
    "\n",
    "\n"
   ]
  },
  {
   "cell_type": "markdown",
   "metadata": {},
   "source": [
    "## Making many histograms at once\n",
    "\n",
    "There a nice method to make many histograms in one go. See here.\n",
    "\n",
    "By default automagical binning is applied to make the histograms.\n",
    "\n",
    "More details one how to use this function are found in in the advanced tutorial."
   ]
  },
  {
   "cell_type": "code",
   "execution_count": null,
   "metadata": {},
   "outputs": [],
   "source": [
    "hists = df.hg_make_histograms()"
   ]
  },
  {
   "cell_type": "code",
   "execution_count": null,
   "metadata": {},
   "outputs": [],
   "source": [
    "print (hists.keys())"
   ]
  },
  {
   "cell_type": "code",
   "execution_count": null,
   "metadata": {},
   "outputs": [],
   "source": [
    "h = hists['transaction']\n",
    "h.plot.matplotlib()"
   ]
  },
  {
   "cell_type": "code",
   "execution_count": null,
   "metadata": {},
   "outputs": [],
   "source": [
    "h = hists['date']\n",
    "h.plot.matplotlib()"
   ]
  },
  {
   "cell_type": "code",
   "execution_count": null,
   "metadata": {},
   "outputs": [],
   "source": [
    "# you can also select which and make multi-dimensional histograms\n",
    "hists = df.hg_make_histograms(features = ['longitude:age'])"
   ]
  },
  {
   "cell_type": "code",
   "execution_count": null,
   "metadata": {},
   "outputs": [],
   "source": [
    "hist = hists['longitude:age']\n",
    "hist.plot.matplotlib()"
   ]
  },
  {
   "cell_type": "markdown",
   "metadata": {},
   "source": [
    "## Storage\n",
    "\n",
    "Histograms can be easily stored and retrieved in/from the json format."
   ]
  },
  {
   "cell_type": "code",
   "execution_count": null,
   "metadata": {},
   "outputs": [],
   "source": [
    "# storage\n",
    "hist.toJsonFile('long_age.json')"
   ]
  },
  {
   "cell_type": "code",
   "execution_count": null,
   "metadata": {},
   "outputs": [],
   "source": [
    "# retrieval\n",
    "factory = hg.Factory()\n",
    "hist2 = factory.fromJsonFile('long_age.json')\n",
    "hist2.plot.matplotlib()"
   ]
  },
  {
   "cell_type": "code",
   "execution_count": null,
   "metadata": {},
   "outputs": [],
   "source": [
    "# to store many histograms at once:"
   ]
  },
  {
   "cell_type": "code",
   "execution_count": null,
   "metadata": {},
   "outputs": [],
   "source": [
    "%%script false --no-raise-error\n",
    "\n",
    "# we can store the histograms if we want to\n",
    "import json\n",
    "from histogrammar.util import dumper\n",
    "\n",
    "# store\n",
    "with open('histograms.json', 'w') as outfile:\n",
    "\tjson.dump(hists, outfile, default=dumper)\n",
    "\n",
    "# and load again\n",
    "with open('histograms.json') as handle:\n",
    "\thists2 = json.load(handle)"
   ]
  },
  {
   "cell_type": "code",
   "execution_count": null,
   "metadata": {},
   "outputs": [],
   "source": [
    "print(hists.keys())"
   ]
  },
  {
   "cell_type": "markdown",
   "metadata": {},
   "source": [
    "## Advanced tutorial\n",
    "\n",
    "The advanced tutotial shows:\n",
    "- How to work with spark dataframes.\n",
    "- More details on this nice method to make many histograms in one go. For example how to set bin specifications.\n"
   ]
  }
 ],
 "metadata": {
  "kernel_info": {
   "name": "python3"
  },
  "kernelspec": {
   "display_name": "Python 3",
   "language": "python",
   "name": "python3"
  },
  "language_info": {
   "codemirror_mode": {
    "name": "ipython",
    "version": 3
   },
   "file_extension": ".py",
   "mimetype": "text/x-python",
   "name": "python",
   "nbconvert_exporter": "python",
   "pygments_lexer": "ipython3",
   "version": "3.8.6"
  },
  "nteract": {
   "version": "0.15.0"
  },
  "pycharm": {
   "stem_cell": {
    "cell_type": "raw",
    "metadata": {
     "collapsed": false
    },
    "source": []
   }
  }
 },
 "nbformat": 4,
 "nbformat_minor": 4
}
